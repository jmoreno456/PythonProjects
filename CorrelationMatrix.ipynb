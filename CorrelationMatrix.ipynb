{
 "cells": [
  {
   "cell_type": "markdown",
   "id": "494aa51e",
   "metadata": {},
   "source": [
    "Import libraries"
   ]
  },
  {
   "cell_type": "code",
   "execution_count": 1,
   "id": "f28fbc12",
   "metadata": {},
   "outputs": [],
   "source": [
    "import pandas as pd\n",
    "import numpy as np\n",
    "import matplotlib.pyplot as plt\n",
    "import seaborn as sns"
   ]
  },
  {
   "cell_type": "markdown",
   "id": "5664b0bb",
   "metadata": {},
   "source": [
    "create girls dataframe"
   ]
  },
  {
   "cell_type": "code",
   "execution_count": 2,
   "id": "aec3df95",
   "metadata": {},
   "outputs": [],
   "source": [
    "girls_df = pd.DataFrame(\n",
    "    {\n",
    "        \"Girls.Goals\": [4, 5, 6],\n",
    "        \"Girls.Grades\": [49, 50, 69],\n",
    "        \"Girls.Popular\": [24, 36, 38],\n",
    "        \"Girls.Time\": [19, 22, 28],\n",
    "        \"Girls.Total\": [92, 108, 135],\n",
    "    }\n",
    ")"
   ]
  },
  {
   "cell_type": "markdown",
   "id": "4a19867e",
   "metadata": {},
   "source": [
    "create boys dataframe"
   ]
  },
  {
   "cell_type": "code",
   "execution_count": 3,
   "id": "e3fe78ba",
   "metadata": {},
   "outputs": [],
   "source": [
    "boys_df = pd.DataFrame(\n",
    "    {\n",
    "        \"Boys.Goals\": [4, 5, 6],\n",
    "        \"Boys.Grades\": [46.1, 54.2, 67.7],\n",
    "        \"Boys.Popular\": [26.9, 31.6, 39.5],\n",
    "        \"Boys.Time\": [18.9, 22.2, 27.8],\n",
    "        \"Boys.Total\": [95.9, 113, 141],\n",
    "    }\n",
    ")"
   ]
  },
  {
   "cell_type": "markdown",
   "id": "b9672a08",
   "metadata": {},
   "source": [
    "merge both dataframes"
   ]
  },
  {
   "cell_type": "code",
   "execution_count": 4,
   "id": "a462050e",
   "metadata": {},
   "outputs": [
    {
     "name": "stdout",
     "output_type": "stream",
     "text": [
      "   Girls.Goals  Girls.Grades  Girls.Popular  Girls.Time  Girls.Total  \\\n",
      "0            4            49             24          19           92   \n",
      "1            5            50             36          22          108   \n",
      "2            6            69             38          28          135   \n",
      "\n",
      "   Boys.Goals  Boys.Grades  Boys.Popular  Boys.Time  Boys.Total  \n",
      "0           4         46.1          26.9       18.9        95.9  \n",
      "1           5         54.2          31.6       22.2       113.0  \n",
      "2           6         67.7          39.5       27.8       141.0  \n",
      "['Girls.Goals', 'Girls.Grades', 'Girls.Popular', 'Girls.Time', 'Girls.Total', 'Boys.Goals', 'Boys.Grades', 'Boys.Popular', 'Boys.Time', 'Boys.Total']\n"
     ]
    }
   ],
   "source": [
    "merged_df = pd.concat([girls_df, boys_df], axis=1)\n",
    "print(merged_df)\n",
    "print(merged_df.columns.to_list())"
   ]
  },
  {
   "cell_type": "markdown",
   "id": "f0b1a131",
   "metadata": {},
   "source": [
    "compute correlation matrix"
   ]
  },
  {
   "cell_type": "code",
   "execution_count": 5,
   "id": "e04f784f",
   "metadata": {},
   "outputs": [
    {
     "name": "stdout",
     "output_type": "stream",
     "text": [
      "               Girls.Goals  Girls.Grades  Girls.Popular  Girls.Time  \\\n",
      "Girls.Goals       1.000000      0.887357       0.924473    0.981981   \n",
      "Girls.Grades      0.887357      1.000000       0.644551    0.958503   \n",
      "Girls.Popular     0.924473      0.644551       1.000000    0.835766   \n",
      "Girls.Time        0.981981      0.958503       0.835766    1.000000   \n",
      "Girls.Total       0.989268      0.945202       0.858849    0.999054   \n",
      "Boys.Goals        1.000000      0.887357       0.924473    0.981981   \n",
      "Boys.Grades       0.989743      0.944124       0.860528    0.998906   \n",
      "Boys.Popular      0.989420      0.944861       0.859383    0.999009   \n",
      "Boys.Time         0.989052      0.945683       0.858092    0.999117   \n",
      "Boys.Total        0.990405      0.942563       0.862915    0.998675   \n",
      "\n",
      "               Girls.Total  Boys.Goals  Boys.Grades  Boys.Popular  Boys.Time  \\\n",
      "Girls.Goals       0.989268    1.000000     0.989743      0.989420   0.989052   \n",
      "Girls.Grades      0.945202    0.887357     0.944124      0.944861   0.945683   \n",
      "Girls.Popular     0.858849    0.924473     0.860528      0.859383   0.858092   \n",
      "Girls.Time        0.999054    0.981981     0.998906      0.999009   0.999117   \n",
      "Girls.Total       1.000000    0.989268     0.999995      0.999999   0.999999   \n",
      "Boys.Goals        0.989268    1.000000     0.989743      0.989420   0.989052   \n",
      "Boys.Grades       0.999995    0.989743     1.000000      0.999997   0.999989   \n",
      "Boys.Popular      0.999999    0.989420     0.999997      1.000000   0.999997   \n",
      "Boys.Time         0.999999    0.989052     0.999989      0.999997   1.000000   \n",
      "Boys.Total        0.999968    0.990405     0.999989      0.999976   0.999955   \n",
      "\n",
      "               Boys.Total  \n",
      "Girls.Goals      0.990405  \n",
      "Girls.Grades     0.942563  \n",
      "Girls.Popular    0.862915  \n",
      "Girls.Time       0.998675  \n",
      "Girls.Total      0.999968  \n",
      "Boys.Goals       0.990405  \n",
      "Boys.Grades      0.999989  \n",
      "Boys.Popular     0.999976  \n",
      "Boys.Time        0.999955  \n",
      "Boys.Total       1.000000  \n"
     ]
    }
   ],
   "source": [
    "correlation_matrix = merged_df.corr()\n",
    "print(correlation_matrix)"
   ]
  },
  {
   "cell_type": "markdown",
   "id": "7c15f74a",
   "metadata": {},
   "source": [
    "compute correlation between girls goals and boys time"
   ]
  },
  {
   "cell_type": "code",
   "execution_count": 6,
   "id": "9fd7d9aa",
   "metadata": {},
   "outputs": [
    {
     "name": "stdout",
     "output_type": "stream",
     "text": [
      "0.9890517091565418\n"
     ]
    }
   ],
   "source": [
    "corr_coeff = merged_df[\"Girls.Goals\"].corr(merged_df[\"Boys.Time\"])\n",
    "print(corr_coeff)"
   ]
  },
  {
   "cell_type": "markdown",
   "id": "80ac19bc",
   "metadata": {},
   "source": [
    "create scatter plot for girls goals and boys time"
   ]
  },
  {
   "cell_type": "code",
   "execution_count": 7,
   "id": "77f6ff38",
   "metadata": {},
   "outputs": [
    {
     "data": {
      "image/png": "[encoded data removed]",
      "text/plain": [
       "<Figure size 640x480 with 1 Axes>"
      ]
     },
     "metadata": {},
     "output_type": "display_data"
    }
   ],
   "source": [
    "plt.scatter(merged_df[\"Girls.Goals\"], merged_df[\"Boys.Time\"])\n",
    "plt.xlabel(\"Girls Goals\")\n",
    "plt.ylabel(\"Boys Time\")\n",
    "plt.title(\"Scatter Plot: Girls Goals vs Boys Time\")\n",
    "plt.grid()\n",
    "plt.show()"
   ]
  }
 ],
 "metadata": {
  "kernelspec": {
   "display_name": "Python 3",
   "language": "python",
   "name": "python3"
  },
  "language_info": {
   "codemirror_mode": {
    "name": "ipython",
    "version": 3
   },
   "file_extension": ".py",
   "mimetype": "text/x-python",
   "name": "python",
   "nbconvert_exporter": "python",
   "pygments_lexer": "ipython3",
   "version": "3.10.0"
  }
 },
 "nbformat": 4,
 "nbformat_minor": 5
}
